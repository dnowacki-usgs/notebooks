{
 "cells": [
  {
   "cell_type": "code",
   "execution_count": 1,
   "metadata": {
    "collapsed": true
   },
   "outputs": [],
   "source": [
    "import requests\n",
    "import numpy as np\n",
    "import datetime as dt\n",
    "import pytz\n",
    "from dateutil import parser\n",
    "\n",
    "def get_coops_data(station, start_date, end_date, product='hourly_height', units='metric'):\n",
    "    \"\"\"\n",
    "    units can be 'english' or 'metric'\n",
    "\n",
    "    product options include 'water_level', 'hourly_height', 'predictions'\n",
    "    from https://tidesandcurrents.noaa.gov/api/\n",
    "    Option\tDescription\n",
    "    water_level\tPreliminary or verified water levels, depending on availability.\n",
    "    air_temperature\tAir temperature as measured at the station.\n",
    "    water_temperature\tWater temperature as measured at the station.\n",
    "    wind\tWind speed, direction, and gusts as measured at the station.\n",
    "    air_pressure\tBarometric pressure as measured at the station.\n",
    "    air_gap\tAir Gap (distance between a bridge and the water's surface) at the station.\n",
    "    conductivity\tThe water's conductivity as measured at the station.\n",
    "    visibility\tVisibility from the station's visibility sensor. A measure of atmospheric clarity.\n",
    "    humidity\tRelative humidity as measured at the station.\n",
    "    salinity\tSalinity and specific gravity data for the station.\n",
    "    hourly_height\tVerified hourly height water level data for the station.\n",
    "    high_low\tVerified high/low water level data for the station.\n",
    "    daily_mean\tVerified daily mean water level data for the station.\n",
    "    monthly_mean\tVerified monthly mean water level data for the station.\n",
    "    one_minute_water_level\tOne minute water level data for the station.\n",
    "    predictions\t6 minute predictions water level data for the station.\n",
    "    datums\tdatums data for the stations.\n",
    "    currents\tCurrents data for currents stations.\n",
    "    \"\"\"\n",
    "\n",
    "    url = 'http://tidesandcurrents.noaa.gov/api/datagetter?product=' \\\n",
    "    + product \\\n",
    "    + '&application=NOS.COOPS.TAC.WL&begin_date=' \\\n",
    "    + str(start_date) \\\n",
    "    + '&end_date=' \\\n",
    "    + str(end_date) \\\n",
    "    + '&datum=MLLW&station=' \\\n",
    "    + str(station) \\\n",
    "    + '&time_zone=GMT&units=' \\\n",
    "    + units \\\n",
    "    + '&format=json'\n",
    "\n",
    "    payload = requests.get(url).json()\n",
    "\n",
    "    if 'error' in payload.keys():\n",
    "        raise ValueError('Error in returning dataset. Time requested too long?')\n",
    "\n",
    "    t = []\n",
    "    v = []\n",
    "    if product == 'water_level' or product == 'hourly_height':\n",
    "        d = payload['data']\n",
    "    elif product == 'predictions':\n",
    "        d = payload['predictions']\n",
    "        \n",
    "    for n in range(len(d)):\n",
    "        t.append(pytz.utc.localize(parser.parse(d[n]['t'])))\n",
    "        try:\n",
    "            v.append(float(d[n]['v']))\n",
    "        except:\n",
    "            v.append(np.nan)\n",
    "    t = np.array(t)\n",
    "    v = np.array(v)\n",
    "\n",
    "    n = {}\n",
    "    n['dn'] = t\n",
    "    n['v'] = v\n",
    "\n",
    "    return n"
   ]
  },
  {
   "cell_type": "code",
   "execution_count": 2,
   "metadata": {
    "collapsed": true
   },
   "outputs": [],
   "source": [
    "n = get_coops_data(station=8739803, start_date=20160801, end_date=20170201, product='hourly_height')"
   ]
  },
  {
   "cell_type": "code",
   "execution_count": 4,
   "metadata": {
    "collapsed": false
   },
   "outputs": [
    {
     "data": {
      "text/plain": [
       "<matplotlib.figure.Figure at 0x106673090>"
      ]
     },
     "metadata": {},
     "output_type": "display_data"
    },
    {
     "data": {
      "image/png": "[encoded data removed]",
      "text/plain": [
       "<matplotlib.figure.Figure at 0x10d6c51d0>"
      ]
     },
     "metadata": {},
     "output_type": "display_data"
    }
   ],
   "source": [
    "import matplotlib.pyplot as plt\n",
    "\n",
    "plt.figure()\n",
    "plt.plot(n['dn'], n['v'])\n",
    "plt.show()"
   ]
  },
  {
   "cell_type": "code",
   "execution_count": null,
   "metadata": {
    "collapsed": true
   },
   "outputs": [],
   "source": []
  }
 ],
 "metadata": {
  "kernelspec": {
   "display_name": "Python 2",
   "language": "python",
   "name": "python2"
  },
  "language_info": {
   "codemirror_mode": {
    "name": "ipython",
    "version": 2
   },
   "file_extension": ".py",
   "mimetype": "text/x-python",
   "name": "python",
   "nbconvert_exporter": "python",
   "pygments_lexer": "ipython2",
   "version": "2.7.13"
  }
 },
 "nbformat": 4,
 "nbformat_minor": 2
}
