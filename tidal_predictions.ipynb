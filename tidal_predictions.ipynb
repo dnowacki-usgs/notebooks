{
 "cells": [
  {
   "cell_type": "code",
   "execution_count": 1,
   "metadata": {},
   "outputs": [],
   "source": [
    "import utide\n",
    "import requests\n",
    "from dateutil import parser\n",
    "import numpy as np\n",
    "import pytz\n",
    "import pandas as pd\n",
    "import matplotlib.pyplot as plt\n",
    "import matplotlib.dates as mdates\n",
    "from ipywidgets import interact, interactive, fixed, interact_manual\n",
    "import ipywidgets as widgets\n",
    "from pandas.plotting import register_matplotlib_converters\n",
    "register_matplotlib_converters()\n",
    "\n",
    "def get_coops_data(station, start_date, end_date, product='hourly_height', units='metric'):\n",
    "    \"\"\"\n",
    "    units can be 'english' or 'metric'\n",
    "\n",
    "    product options include 'water_level', 'hourly_height', 'predictions'\n",
    "    from https://tidesandcurrents.noaa.gov/api/\n",
    "    Option\tDescription\n",
    "    water_level\tPreliminary or verified water levels, depending on availability.\n",
    "    air_temperature\tAir temperature as measured at the station.\n",
    "    water_temperature\tWater temperature as measured at the station.\n",
    "    wind\tWind speed, direction, and gusts as measured at the station.\n",
    "    air_pressure\tBarometric pressure as measured at the station.\n",
    "    air_gap\tAir Gap (distance between a bridge and the water's surface) at the station.\n",
    "    conductivity\tThe water's conductivity as measured at the station.\n",
    "    visibility\tVisibility from the station's visibility sensor. A measure of atmospheric clarity.\n",
    "    humidity\tRelative humidity as measured at the station.\n",
    "    salinity\tSalinity and specific gravity data for the station.\n",
    "    hourly_height\tVerified hourly height water level data for the station.\n",
    "    high_low\tVerified high/low water level data for the station.\n",
    "    daily_mean\tVerified daily mean water level data for the station.\n",
    "    monthly_mean\tVerified monthly mean water level data for the station.\n",
    "    one_minute_water_level\tOne minute water level data for the station.\n",
    "    predictions\t6 minute predictions water level data for the station.\n",
    "    datums\tdatums data for the stations.\n",
    "    currents\tCurrents data for currents stations.\n",
    "    \"\"\"\n",
    "\n",
    "    url = 'http://tidesandcurrents.noaa.gov/api/datagetter?product=' \\\n",
    "    + product \\\n",
    "    + '&application=NOS.COOPS.TAC.WL&begin_date=' \\\n",
    "    + str(start_date) \\\n",
    "    + '&end_date=' \\\n",
    "    + str(end_date) \\\n",
    "    + '&datum=MLLW&station=' \\\n",
    "    + str(station) \\\n",
    "    + '&time_zone=GMT&units=' \\\n",
    "    + units \\\n",
    "    + '&format=json'\n",
    "\n",
    "    payload = requests.get(url).json()\n",
    "\n",
    "    if 'error' in payload.keys():\n",
    "        raise ValueError('Error in returning dataset. Time requested too long?')\n",
    "\n",
    "    t = []\n",
    "    v = []\n",
    "    if product == 'water_level' or product == 'hourly_height':\n",
    "        d = payload['data']\n",
    "    elif product == 'predictions':\n",
    "        d = payload['predictions']\n",
    "        \n",
    "    for n in range(len(d)):\n",
    "        t.append(pytz.utc.localize(parser.parse(d[n]['t'])))\n",
    "        try:\n",
    "            v.append(float(d[n]['v']))\n",
    "        except:\n",
    "            v.append(np.nan)\n",
    "    t = np.array(t)\n",
    "    v = np.array(v)\n",
    "\n",
    "    n = {}\n",
    "    n['time'] = t\n",
    "    n['v'] = v\n",
    "\n",
    "    return n"
   ]
  },
  {
   "cell_type": "code",
   "execution_count": 2,
   "metadata": {},
   "outputs": [
    {
     "name": "stdout",
     "output_type": "stream",
     "text": [
      "solve: matrix prep ... solution ... diagnostics ... done.\n",
      "prep/calcs ... done.\n"
     ]
    }
   ],
   "source": [
    "harm = pd.read_csv('data/cherry_point_harmonics.txt', sep='\\t')\n",
    "dfyear = pd.DataFrame(get_coops_data('9449424', '20180101', '20181231'))\n",
    "timeyear = mdates.date2num(dfyear.time)\n",
    "coefyear = utide.solve(timeyear, dfyear['v'].values,\n",
    "                       lat=48.9,\n",
    "                       method='ols',\n",
    "                       conf_int='MC')\n",
    "tideyear = utide.reconstruct(timeyear, coefyear)"
   ]
  },
  {
   "cell_type": "code",
   "execution_count": 3,
   "metadata": {},
   "outputs": [
    {
     "name": "stdout",
     "output_type": "stream",
     "text": [
      "solve: matrix prep ... solution ... diagnostics ... done.\n",
      "prep/calcs ... done.\n",
      "solve: matrix prep ... solution ... diagnostics ... done.\n",
      "prep/calcs ... done.\n",
      "solve: matrix prep ... solution ... diagnostics ... done.\n",
      "prep/calcs ... done.\n",
      "solve: matrix prep ... solution ... diagnostics ... done.\n",
      "prep/calcs ... done.\n",
      "solve: matrix prep ... solution ... diagnostics ... done.\n",
      "prep/calcs ... done.\n",
      "solve: matrix prep ... solution ... diagnostics ... done.\n",
      "prep/calcs ... done.\n",
      "solve: matrix prep ... solution ... diagnostics ... done.\n",
      "prep/calcs ... done.\n",
      "solve: matrix prep ... solution ... diagnostics ... done.\n",
      "prep/calcs ... done.\n",
      "solve: matrix prep ... solution ... diagnostics ... done.\n",
      "prep/calcs ... done.\n",
      "solve: matrix prep ... solution ... diagnostics ... done.\n",
      "prep/calcs ... done.\n",
      "solve: matrix prep ... solution ... diagnostics ... done.\n",
      "prep/calcs ... done.\n",
      "solve: matrix prep ... solution ... diagnostics ... done.\n",
      "prep/calcs ... done.\n"
     ]
    }
   ],
   "source": [
    "coefs = []\n",
    "times = []\n",
    "tides = []\n",
    "for end in pd.date_range('2018-01-01', '2018-12-31', freq='M'):\n",
    "    df = pd.DataFrame(get_coops_data('9449424', '20180101', end.strftime('%Y%m%d')))\n",
    "    time = mdates.date2num(df.time)\n",
    "    coef = utide.solve(time, df['v'].values,\n",
    "                       lat=48.9,\n",
    "                       method='ols',\n",
    "                       conf_int='MC')\n",
    "    coefs.append(coef)\n",
    "    times.append(time)\n",
    "    tides.append(utide.reconstruct(time, coef))"
   ]
  },
  {
   "cell_type": "code",
   "execution_count": 4,
   "metadata": {},
   "outputs": [
    {
     "name": "stdout",
     "output_type": "stream",
     "text": [
      "prep/calcs ... done.\n",
      "prep/calcs ... done.\n",
      "prep/calcs ... done.\n",
      "prep/calcs ... done.\n",
      "prep/calcs ... done.\n",
      "prep/calcs ... done.\n",
      "prep/calcs ... done.\n",
      "prep/calcs ... done.\n",
      "prep/calcs ... done.\n",
      "prep/calcs ... done.\n",
      "prep/calcs ... done.\n",
      "prep/calcs ... done.\n"
     ]
    }
   ],
   "source": [
    "subtides = []\n",
    "for n in range(len(coefs)):\n",
    "    subtides.append(utide.reconstruct(timeyear, coefs[n]))"
   ]
  },
  {
   "cell_type": "markdown",
   "metadata": {},
   "source": [
    "# Use the slider to see how the tidal predictions vary when using different amounts of data to make the prediction"
   ]
  },
  {
   "cell_type": "code",
   "execution_count": 5,
   "metadata": {},
   "outputs": [
    {
     "data": {
      "application/vnd.jupyter.widget-view+json": {
       "model_id": "2febc1dee3c74b1cbea070d67057af25",
       "version_major": 2,
       "version_minor": 0
      },
      "text/plain": [
       "interactive(children=(IntSlider(value=1, description='months', max=12, min=1), Output(layout=Layout(height='50…"
      ]
     },
     "metadata": {},
     "output_type": "display_data"
    }
   ],
   "source": [
    "amp = harm['Amplitude'][harm['Name'] == 'K1'].values\n",
    "pcterr = []\n",
    "\n",
    "for coef in coefs:\n",
    "    if 'K1' in coef.name:\n",
    "        pcterr.append(100*(coef.A[coef.name == 'K1']-amp)/amp)\n",
    "    else:\n",
    "        pcterr.append(np.nan)\n",
    "        \n",
    "def plot_func(months):\n",
    "    n = months - 1\n",
    "\n",
    "    plt.figure(figsize=(10,8))\n",
    "    plt.subplot(2,1,1)\n",
    "    plt.plot(dfyear.time, dfyear['v'].values, label='Measured', lw=0.75)\n",
    "    plt.plot(dfyear.time, subtides[n].h, label='Predicted', lw=0.75)\n",
    "    plt.ylim(-3, 7)\n",
    "    plt.title(f'Using {months} month to make tidal prediction')\n",
    "    plt.ylabel('Water level [m]')\n",
    "    plt.xlabel('Date')\n",
    "    plt.legend(loc='upper left')\n",
    "    \n",
    "    plt.subplot(2,1,2)\n",
    "    plt.plot(np.arange(len(coefs))+1, pcterr,'o',)\n",
    "    plt.plot(months, pcterr[n], 'o', ms=10)\n",
    "    plt.axhline(0, ls='--', c='grey')\n",
    "    plt.ylabel('Percent error in K1 constituent')\n",
    "    plt.xlabel('Number of months included in tidal prediction')\n",
    "    plt.xticks(np.linspace(1,12,12))\n",
    "\n",
    "interactive_plot = interactive(plot_func, months = widgets.IntSlider(value=1,\n",
    "                                               min=1,\n",
    "                                               max=12,\n",
    "                                               step=1))\n",
    "output = interactive_plot.children[-1]\n",
    "output.layout.height = '500px'\n",
    "interactive_plot"
   ]
  },
  {
   "cell_type": "code",
   "execution_count": null,
   "metadata": {},
   "outputs": [],
   "source": []
  }
 ],
 "metadata": {
  "kernelspec": {
   "display_name": "Python 3",
   "language": "python",
   "name": "python3"
  },
  "language_info": {
   "codemirror_mode": {
    "name": "ipython",
    "version": 3
   },
   "file_extension": ".py",
   "mimetype": "text/x-python",
   "name": "python",
   "nbconvert_exporter": "python",
   "pygments_lexer": "ipython3",
   "version": "3.7.2"
  }
 },
 "nbformat": 4,
 "nbformat_minor": 2
}
